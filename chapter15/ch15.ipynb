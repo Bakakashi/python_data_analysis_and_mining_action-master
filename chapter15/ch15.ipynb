{
 "cells": [
  {
   "cell_type": "code",
   "execution_count": 1,
   "metadata": {},
   "outputs": [],
   "source": [
    "import os\n",
    "path = os.getcwd()"
   ]
  },
  {
   "cell_type": "code",
   "execution_count": 2,
   "metadata": {},
   "outputs": [],
   "source": [
    "import pandas as pd"
   ]
  },
  {
   "cell_type": "markdown",
   "metadata": {},
   "source": [
    "15-1 评论抽取"
   ]
  },
  {
   "cell_type": "code",
   "execution_count": 3,
   "metadata": {},
   "outputs": [
    {
     "data": {
      "text/html": [
       "<div>\n",
       "<style scoped>\n",
       "    .dataframe tbody tr th:only-of-type {\n",
       "        vertical-align: middle;\n",
       "    }\n",
       "\n",
       "    .dataframe tbody tr th {\n",
       "        vertical-align: top;\n",
       "    }\n",
       "\n",
       "    .dataframe thead th {\n",
       "        text-align: right;\n",
       "    }\n",
       "</style>\n",
       "<table border=\"1\" class=\"dataframe\">\n",
       "  <thead>\n",
       "    <tr style=\"text-align: right;\">\n",
       "      <th></th>\n",
       "      <th>Id</th>\n",
       "      <th>已采</th>\n",
       "      <th>已发</th>\n",
       "      <th>电商平台</th>\n",
       "      <th>品牌</th>\n",
       "      <th>评论</th>\n",
       "      <th>时间</th>\n",
       "      <th>型号</th>\n",
       "      <th>PageUrl</th>\n",
       "    </tr>\n",
       "  </thead>\n",
       "  <tbody>\n",
       "    <tr>\n",
       "      <th>0</th>\n",
       "      <td>1</td>\n",
       "      <td>True</td>\n",
       "      <td>False</td>\n",
       "      <td>京东</td>\n",
       "      <td>AO</td>\n",
       "      <td>挺好的 ，安装人员很负责 指的夸奖</td>\n",
       "      <td>2014/8/26 9:07</td>\n",
       "      <td>AO史密斯（A.O.Smith） ET300J-60 电热水器 60升</td>\n",
       "      <td>http://s.club.jd.com/productpage/p-1008025-s-0...</td>\n",
       "    </tr>\n",
       "    <tr>\n",
       "      <th>1</th>\n",
       "      <td>2</td>\n",
       "      <td>True</td>\n",
       "      <td>False</td>\n",
       "      <td>京东</td>\n",
       "      <td>AO</td>\n",
       "      <td>自己安装的，感觉蛮好。后续追加。</td>\n",
       "      <td>2014/10/17 14:24</td>\n",
       "      <td>AO史密斯（A.O.Smith） ET300J-60 电热水器 60升</td>\n",
       "      <td>http://s.club.jd.com/productpage/p-1008025-s-0...</td>\n",
       "    </tr>\n",
       "    <tr>\n",
       "      <th>2</th>\n",
       "      <td>3</td>\n",
       "      <td>True</td>\n",
       "      <td>False</td>\n",
       "      <td>京东</td>\n",
       "      <td>AO</td>\n",
       "      <td>\\n\\nAO史密斯（A.O.Smith） ET300J-60 电热水器 60升 还没安装</td>\n",
       "      <td>2014/11/12 13:36</td>\n",
       "      <td>AO史密斯（A.O.Smith） ET300J-60 电热水器 60升</td>\n",
       "      <td>http://s.club.jd.com/productpage/p-1008025-s-0...</td>\n",
       "    </tr>\n",
       "    <tr>\n",
       "      <th>3</th>\n",
       "      <td>4</td>\n",
       "      <td>True</td>\n",
       "      <td>False</td>\n",
       "      <td>京东</td>\n",
       "      <td>AO</td>\n",
       "      <td>还没装，等安装之后再来吧，为装修备的货。</td>\n",
       "      <td>2014/11/16 0:04</td>\n",
       "      <td>AO史密斯（A.O.Smith） ET300J-60 电热水器 60升</td>\n",
       "      <td>http://s.club.jd.com/productpage/p-1008025-s-0...</td>\n",
       "    </tr>\n",
       "    <tr>\n",
       "      <th>4</th>\n",
       "      <td>5</td>\n",
       "      <td>True</td>\n",
       "      <td>False</td>\n",
       "      <td>京东</td>\n",
       "      <td>AO</td>\n",
       "      <td>大小刚刚好，安装收了140材料费，活接、弯头啥的。试机顺利，16度加热到30度用了6分钟左右...</td>\n",
       "      <td>2014/11/11 8:11</td>\n",
       "      <td>AO史密斯（A.O.Smith） ET300J-60 电热水器 60升</td>\n",
       "      <td>http://s.club.jd.com/productpage/p-1008025-s-0...</td>\n",
       "    </tr>\n",
       "  </tbody>\n",
       "</table>\n",
       "</div>"
      ],
      "text/plain": [
       "   Id    已采     已发 电商平台  品牌  \\\n",
       "0   1  True  False   京东  AO   \n",
       "1   2  True  False   京东  AO   \n",
       "2   3  True  False   京东  AO   \n",
       "3   4  True  False   京东  AO   \n",
       "4   5  True  False   京东  AO   \n",
       "\n",
       "                                                  评论                时间  \\\n",
       "0                                  挺好的 ，安装人员很负责 指的夸奖    2014/8/26 9:07   \n",
       "1                                   自己安装的，感觉蛮好。后续追加。  2014/10/17 14:24   \n",
       "2       \\n\\nAO史密斯（A.O.Smith） ET300J-60 电热水器 60升 还没安装  2014/11/12 13:36   \n",
       "3                               还没装，等安装之后再来吧，为装修备的货。   2014/11/16 0:04   \n",
       "4  大小刚刚好，安装收了140材料费，活接、弯头啥的。试机顺利，16度加热到30度用了6分钟左右...   2014/11/11 8:11   \n",
       "\n",
       "                                    型号  \\\n",
       "0  AO史密斯（A.O.Smith） ET300J-60 电热水器 60升   \n",
       "1  AO史密斯（A.O.Smith） ET300J-60 电热水器 60升   \n",
       "2  AO史密斯（A.O.Smith） ET300J-60 电热水器 60升   \n",
       "3  AO史密斯（A.O.Smith） ET300J-60 电热水器 60升   \n",
       "4  AO史密斯（A.O.Smith） ET300J-60 电热水器 60升   \n",
       "\n",
       "                                             PageUrl  \n",
       "0  http://s.club.jd.com/productpage/p-1008025-s-0...  \n",
       "1  http://s.club.jd.com/productpage/p-1008025-s-0...  \n",
       "2  http://s.club.jd.com/productpage/p-1008025-s-0...  \n",
       "3  http://s.club.jd.com/productpage/p-1008025-s-0...  \n",
       "4  http://s.club.jd.com/productpage/p-1008025-s-0...  "
      ]
     },
     "execution_count": 3,
     "metadata": {},
     "output_type": "execute_result"
    }
   ],
   "source": [
    "inputfile = path + '/data/huizong.csv'\n",
    "outputfile = path + '/data/meidi_jd.txt'\n",
    "data = pd.read_csv(inputfile, encoding = 'utf-8')\n",
    "data.head()"
   ]
  },
  {
   "cell_type": "code",
   "execution_count": 4,
   "metadata": {},
   "outputs": [
    {
     "name": "stdout",
     "output_type": "stream",
     "text": [
      "<class 'pandas.core.frame.DataFrame'>\n",
      "Int64Index: 55774 entries, 95898 to 151671\n",
      "Data columns (total 1 columns):\n",
      "评论    55400 non-null object\n",
      "dtypes: object(1)\n",
      "memory usage: 871.5+ KB\n"
     ]
    }
   ],
   "source": [
    "data = data[[u'评论']][data[u'品牌'] == u'美的']\n",
    "data.to_csv(outputfile, index = False, header = False, encoding = 'utf8')\n",
    "data.info()"
   ]
  },
  {
   "cell_type": "code",
   "execution_count": 5,
   "metadata": {},
   "outputs": [
    {
     "data": {
      "text/html": [
       "<div>\n",
       "<style scoped>\n",
       "    .dataframe tbody tr th:only-of-type {\n",
       "        vertical-align: middle;\n",
       "    }\n",
       "\n",
       "    .dataframe tbody tr th {\n",
       "        vertical-align: top;\n",
       "    }\n",
       "\n",
       "    .dataframe thead th {\n",
       "        text-align: right;\n",
       "    }\n",
       "</style>\n",
       "<table border=\"1\" class=\"dataframe\">\n",
       "  <thead>\n",
       "    <tr style=\"text-align: right;\">\n",
       "      <th></th>\n",
       "      <th>评论</th>\n",
       "    </tr>\n",
       "  </thead>\n",
       "  <tbody>\n",
       "    <tr>\n",
       "      <th>95898</th>\n",
       "      <td>京东商城信得过，买的放心，用的省心、安心、放心！</td>\n",
       "    </tr>\n",
       "    <tr>\n",
       "      <th>95899</th>\n",
       "      <td>给公司宿舍买的，上门安装很快，快递也送的及时，不错的。给五分吧</td>\n",
       "    </tr>\n",
       "    <tr>\n",
       "      <th>95900</th>\n",
       "      <td>美的值得信赖，质量不错</td>\n",
       "    </tr>\n",
       "    <tr>\n",
       "      <th>95901</th>\n",
       "      <td>不错不错的哦，第一次在京东买这些产品，感觉相当好</td>\n",
       "    </tr>\n",
       "    <tr>\n",
       "      <th>95902</th>\n",
       "      <td>很满意，水方一晚上都还是热的早上还能再洗，</td>\n",
       "    </tr>\n",
       "  </tbody>\n",
       "</table>\n",
       "</div>"
      ],
      "text/plain": [
       "                                    评论\n",
       "95898         京东商城信得过，买的放心，用的省心、安心、放心！\n",
       "95899  给公司宿舍买的，上门安装很快，快递也送的及时，不错的。给五分吧\n",
       "95900                      美的值得信赖，质量不错\n",
       "95901         不错不错的哦，第一次在京东买这些产品，感觉相当好\n",
       "95902            很满意，水方一晚上都还是热的早上还能再洗，"
      ]
     },
     "execution_count": 5,
     "metadata": {},
     "output_type": "execute_result"
    }
   ],
   "source": [
    "data.head()"
   ]
  },
  {
   "cell_type": "markdown",
   "metadata": {},
   "source": [
    "15-2 文本数据去重"
   ]
  },
  {
   "cell_type": "code",
   "execution_count": 6,
   "metadata": {},
   "outputs": [
    {
     "name": "stdout",
     "output_type": "stream",
     "text": [
      "删除了2725条评论\n"
     ]
    }
   ],
   "source": [
    "outputfile = path + '/data/meidi_jd_process_1.txt'\n",
    "\n",
    "l1 = len(data)\n",
    "data = pd.DataFrame(data[u'评论'].unique())\n",
    "l2 = len(data)\n",
    "data.to_csv(outputfile, index = False, header = False, encoding = 'utf8')\n",
    "print(u'删除了%s条评论' % (l1 - l2))"
   ]
  },
  {
   "cell_type": "markdown",
   "metadata": {},
   "source": [
    "15-3 删除前缀评分"
   ]
  },
  {
   "cell_type": "code",
   "execution_count": 7,
   "metadata": {},
   "outputs": [
    {
     "name": "stdout",
     "output_type": "stream",
     "text": [
      "<class 'pandas.core.frame.DataFrame'>\n",
      "RangeIndex: 5441 entries, 0 to 5440\n",
      "Data columns (total 1 columns):\n",
      "0    5441 non-null object\n",
      "dtypes: object(1)\n",
      "memory usage: 42.6+ KB\n"
     ]
    }
   ],
   "source": [
    "inputfile1 = path + '/data/meidi_jd_process_end_neg.txt'\n",
    "inputfile2 = path + '/data/meidi_jd_process_end_pos.txt'\n",
    "outputfile1 = path + '/data/meidi_jd_neg.txt'\n",
    "outputfile2 = path + '/data/meidi_jd_pos.txt'\n",
    "\n",
    "data1 = pd.read_csv(inputfile1, encoding = 'utf8', header = None)\n",
    "data2 = pd.read_csv(inputfile2, encoding = 'utf8', header = None)\n",
    "data1.info()"
   ]
  },
  {
   "cell_type": "code",
   "execution_count": 8,
   "metadata": {},
   "outputs": [
    {
     "data": {
      "text/html": [
       "<div>\n",
       "<style scoped>\n",
       "    .dataframe tbody tr th:only-of-type {\n",
       "        vertical-align: middle;\n",
       "    }\n",
       "\n",
       "    .dataframe tbody tr th {\n",
       "        vertical-align: top;\n",
       "    }\n",
       "\n",
       "    .dataframe thead th {\n",
       "        text-align: right;\n",
       "    }\n",
       "</style>\n",
       "<table border=\"1\" class=\"dataframe\">\n",
       "  <thead>\n",
       "    <tr style=\"text-align: right;\">\n",
       "      <th></th>\n",
       "      <th>0</th>\n",
       "    </tr>\n",
       "  </thead>\n",
       "  <tbody>\n",
       "    <tr>\n",
       "      <th>0</th>\n",
       "      <td>-4\\t 好像遥控是坏的 还是送的电池没有电 算了 热水器上将就着按吧</td>\n",
       "    </tr>\n",
       "    <tr>\n",
       "      <th>1</th>\n",
       "      <td>-4\\t 要打十个字才能发 我就打十个字</td>\n",
       "    </tr>\n",
       "    <tr>\n",
       "      <th>2</th>\n",
       "      <td>-7\\t 调温的开关太紧了 不知道是不是都这样 送货和安装的师傅来的很准时 不像以前要等老半天</td>\n",
       "    </tr>\n",
       "    <tr>\n",
       "      <th>3</th>\n",
       "      <td>-11\\t 上面安装既然花了我差不多*块 但是这热水器马马虎虎吧</td>\n",
       "    </tr>\n",
       "    <tr>\n",
       "      <th>4</th>\n",
       "      <td>-15\\t 这东西有不是什么高科技 比别的厂家还贵 想不明白</td>\n",
       "    </tr>\n",
       "  </tbody>\n",
       "</table>\n",
       "</div>"
      ],
      "text/plain": [
       "                                                 0\n",
       "0              -4\\t 好像遥控是坏的 还是送的电池没有电 算了 热水器上将就着按吧\n",
       "1                             -4\\t 要打十个字才能发 我就打十个字\n",
       "2  -7\\t 调温的开关太紧了 不知道是不是都这样 送货和安装的师傅来的很准时 不像以前要等老半天\n",
       "3                 -11\\t 上面安装既然花了我差不多*块 但是这热水器马马虎虎吧\n",
       "4                   -15\\t 这东西有不是什么高科技 比别的厂家还贵 想不明白"
      ]
     },
     "execution_count": 8,
     "metadata": {},
     "output_type": "execute_result"
    }
   ],
   "source": [
    "data1.head()"
   ]
  },
  {
   "cell_type": "code",
   "execution_count": 9,
   "metadata": {},
   "outputs": [
    {
     "data": {
      "text/html": [
       "<div>\n",
       "<style scoped>\n",
       "    .dataframe tbody tr th:only-of-type {\n",
       "        vertical-align: middle;\n",
       "    }\n",
       "\n",
       "    .dataframe tbody tr th {\n",
       "        vertical-align: top;\n",
       "    }\n",
       "\n",
       "    .dataframe thead th {\n",
       "        text-align: right;\n",
       "    }\n",
       "</style>\n",
       "<table border=\"1\" class=\"dataframe\">\n",
       "  <thead>\n",
       "    <tr style=\"text-align: right;\">\n",
       "      <th></th>\n",
       "      <th>0</th>\n",
       "    </tr>\n",
       "  </thead>\n",
       "  <tbody>\n",
       "    <tr>\n",
       "      <th>0</th>\n",
       "      <td>4\\t 还好 安装费有点贵</td>\n",
       "    </tr>\n",
       "    <tr>\n",
       "      <th>1</th>\n",
       "      <td>11\\t 商品已经收到 打开包装检查一下外观完美；还没有安装使用 用后再评论</td>\n",
       "    </tr>\n",
       "    <tr>\n",
       "      <th>2</th>\n",
       "      <td>11\\t 东西不错 租房子用的 足够了</td>\n",
       "    </tr>\n",
       "    <tr>\n",
       "      <th>3</th>\n",
       "      <td>8\\t 很好 今天安装好了 非常满意</td>\n",
       "    </tr>\n",
       "    <tr>\n",
       "      <th>4</th>\n",
       "      <td>4\\t 可以把 能用就好 出租的</td>\n",
       "    </tr>\n",
       "  </tbody>\n",
       "</table>\n",
       "</div>"
      ],
      "text/plain": [
       "                                        0\n",
       "0                           4\\t 还好 安装费有点贵\n",
       "1  11\\t 商品已经收到 打开包装检查一下外观完美；还没有安装使用 用后再评论\n",
       "2                     11\\t 东西不错 租房子用的 足够了\n",
       "3                      8\\t 很好 今天安装好了 非常满意\n",
       "4                        4\\t 可以把 能用就好 出租的"
      ]
     },
     "execution_count": 9,
     "metadata": {},
     "output_type": "execute_result"
    }
   ],
   "source": [
    "data2.head()"
   ]
  },
  {
   "cell_type": "code",
   "execution_count": 10,
   "metadata": {},
   "outputs": [
    {
     "name": "stdout",
     "output_type": "stream",
     "text": [
      "<class 'pandas.core.frame.DataFrame'>\n",
      "RangeIndex: 5441 entries, 0 to 5440\n",
      "Data columns (total 1 columns):\n",
      "0    5441 non-null object\n",
      "dtypes: object(1)\n",
      "memory usage: 42.6+ KB\n"
     ]
    }
   ],
   "source": [
    "# 正则表达式修改数据\n",
    "data1 = pd.DataFrame(data1[0].str.replace('.*?\\d+?\\\\t ', ''))\n",
    "data2 = pd.DataFrame(data2[0].str.replace('.*?\\d+?\\\\t ', ''))\n",
    "\n",
    "data1.to_csv(outputfile1, index = False, header = None, encoding = 'utf8')\n",
    "data2.to_csv(outputfile2, index = False, header = None, encoding = 'utf8')\n",
    "data1.info()"
   ]
  },
  {
   "cell_type": "code",
   "execution_count": 11,
   "metadata": {},
   "outputs": [
    {
     "data": {
      "text/html": [
       "<div>\n",
       "<style scoped>\n",
       "    .dataframe tbody tr th:only-of-type {\n",
       "        vertical-align: middle;\n",
       "    }\n",
       "\n",
       "    .dataframe tbody tr th {\n",
       "        vertical-align: top;\n",
       "    }\n",
       "\n",
       "    .dataframe thead th {\n",
       "        text-align: right;\n",
       "    }\n",
       "</style>\n",
       "<table border=\"1\" class=\"dataframe\">\n",
       "  <thead>\n",
       "    <tr style=\"text-align: right;\">\n",
       "      <th></th>\n",
       "      <th>0</th>\n",
       "    </tr>\n",
       "  </thead>\n",
       "  <tbody>\n",
       "    <tr>\n",
       "      <th>0</th>\n",
       "      <td>好像遥控是坏的 还是送的电池没有电 算了 热水器上将就着按吧</td>\n",
       "    </tr>\n",
       "    <tr>\n",
       "      <th>1</th>\n",
       "      <td>要打十个字才能发 我就打十个字</td>\n",
       "    </tr>\n",
       "    <tr>\n",
       "      <th>2</th>\n",
       "      <td>调温的开关太紧了 不知道是不是都这样 送货和安装的师傅来的很准时 不像以前要等老半天</td>\n",
       "    </tr>\n",
       "    <tr>\n",
       "      <th>3</th>\n",
       "      <td>上面安装既然花了我差不多*块 但是这热水器马马虎虎吧</td>\n",
       "    </tr>\n",
       "    <tr>\n",
       "      <th>4</th>\n",
       "      <td>这东西有不是什么高科技 比别的厂家还贵 想不明白</td>\n",
       "    </tr>\n",
       "  </tbody>\n",
       "</table>\n",
       "</div>"
      ],
      "text/plain": [
       "                                            0\n",
       "0              好像遥控是坏的 还是送的电池没有电 算了 热水器上将就着按吧\n",
       "1                             要打十个字才能发 我就打十个字\n",
       "2  调温的开关太紧了 不知道是不是都这样 送货和安装的师傅来的很准时 不像以前要等老半天\n",
       "3                  上面安装既然花了我差不多*块 但是这热水器马马虎虎吧\n",
       "4                    这东西有不是什么高科技 比别的厂家还贵 想不明白"
      ]
     },
     "execution_count": 11,
     "metadata": {},
     "output_type": "execute_result"
    }
   ],
   "source": [
    "data1.head()"
   ]
  },
  {
   "cell_type": "code",
   "execution_count": 12,
   "metadata": {},
   "outputs": [
    {
     "data": {
      "text/html": [
       "<div>\n",
       "<style scoped>\n",
       "    .dataframe tbody tr th:only-of-type {\n",
       "        vertical-align: middle;\n",
       "    }\n",
       "\n",
       "    .dataframe tbody tr th {\n",
       "        vertical-align: top;\n",
       "    }\n",
       "\n",
       "    .dataframe thead th {\n",
       "        text-align: right;\n",
       "    }\n",
       "</style>\n",
       "<table border=\"1\" class=\"dataframe\">\n",
       "  <thead>\n",
       "    <tr style=\"text-align: right;\">\n",
       "      <th></th>\n",
       "      <th>0</th>\n",
       "    </tr>\n",
       "  </thead>\n",
       "  <tbody>\n",
       "    <tr>\n",
       "      <th>0</th>\n",
       "      <td>还好 安装费有点贵</td>\n",
       "    </tr>\n",
       "    <tr>\n",
       "      <th>1</th>\n",
       "      <td>商品已经收到 打开包装检查一下外观完美；还没有安装使用 用后再评论</td>\n",
       "    </tr>\n",
       "    <tr>\n",
       "      <th>2</th>\n",
       "      <td>东西不错 租房子用的 足够了</td>\n",
       "    </tr>\n",
       "    <tr>\n",
       "      <th>3</th>\n",
       "      <td>很好 今天安装好了 非常满意</td>\n",
       "    </tr>\n",
       "    <tr>\n",
       "      <th>4</th>\n",
       "      <td>可以把 能用就好 出租的</td>\n",
       "    </tr>\n",
       "  </tbody>\n",
       "</table>\n",
       "</div>"
      ],
      "text/plain": [
       "                                   0\n",
       "0                          还好 安装费有点贵\n",
       "1  商品已经收到 打开包装检查一下外观完美；还没有安装使用 用后再评论\n",
       "2                     东西不错 租房子用的 足够了\n",
       "3                     很好 今天安装好了 非常满意\n",
       "4                       可以把 能用就好 出租的"
      ]
     },
     "execution_count": 12,
     "metadata": {},
     "output_type": "execute_result"
    }
   ],
   "source": [
    "data2.head()"
   ]
  },
  {
   "cell_type": "markdown",
   "metadata": {},
   "source": [
    "15-4 分词"
   ]
  },
  {
   "cell_type": "code",
   "execution_count": 13,
   "metadata": {},
   "outputs": [
    {
     "name": "stderr",
     "output_type": "stream",
     "text": [
      "Building prefix dict from the default dictionary ...\n",
      "Loading model from cache C:\\Users\\licht\\AppData\\Local\\Temp\\jieba.cache\n",
      "Loading model cost 2.639 seconds.\n",
      "Prefix dict has been built succesfully.\n"
     ]
    }
   ],
   "source": [
    "import jieba\n",
    "\n",
    "outputfile1 = path + '/data/meidi_jd_neg_cut.txt'\n",
    "outputfile2 = path + '/data/meidi_jd_pos_cut.txt'\n",
    "\n",
    "# 自定义简单分词函数\n",
    "def mycut(s): return ' '.join(jieba.cut(s))\n",
    "data1 = data1[0].apply(mycut)\n",
    "data2 = data2[0].apply(mycut)\n",
    "\n",
    "data1.to_csv(outputfile1, index = False, header = False, encoding = 'utf8')\n",
    "data2.to_csv(outputfile2, index = False, header = False, encoding = 'utf8')"
   ]
  },
  {
   "cell_type": "code",
   "execution_count": 14,
   "metadata": {},
   "outputs": [
    {
     "data": {
      "text/plain": [
       "0    好像 遥控 是 坏 的   还是 送 的 电池 没有 电   算了   热水器 上将 就 着...\n",
       "1                           要 打 十个 字 才能 发   我 就 打 十个 字\n",
       "2    调温 的 开关 太紧 了   不 知道 是不是 都 这样   送货 和 安装 的 师傅 来 ...\n",
       "3             上面 安装 既然 花 了 我 差不多 * 块   但是 这 热水器 马马虎虎 吧\n",
       "4               这 东西 有 不是 什么 高科技   比 别的 厂家 还贵   想 不 明白\n",
       "Name: 0, dtype: object"
      ]
     },
     "execution_count": 14,
     "metadata": {},
     "output_type": "execute_result"
    }
   ],
   "source": [
    "data1.head()"
   ]
  },
  {
   "cell_type": "code",
   "execution_count": 15,
   "metadata": {},
   "outputs": [
    {
     "data": {
      "text/plain": [
       "0                                        还好   安装费 有点 贵\n",
       "1    商品 已经 收到   打开 包装 检查一下 外观 完美 ； 还 没有 安装 使用   用后 ...\n",
       "2                               东西 不错   租房子 用 的   足够 了\n",
       "3                              很 好   今天 安装 好 了   非常 满意\n",
       "4                                 可以 把   能用 就 好   出租 的\n",
       "Name: 0, dtype: object"
      ]
     },
     "execution_count": 15,
     "metadata": {},
     "output_type": "execute_result"
    }
   ],
   "source": [
    "data2.head()"
   ]
  },
  {
   "cell_type": "markdown",
   "metadata": {},
   "source": [
    "15-5 LDA主题分析"
   ]
  },
  {
   "cell_type": "code",
   "execution_count": 16,
   "metadata": {},
   "outputs": [
    {
     "data": {
      "text/html": [
       "<div>\n",
       "<style scoped>\n",
       "    .dataframe tbody tr th:only-of-type {\n",
       "        vertical-align: middle;\n",
       "    }\n",
       "\n",
       "    .dataframe tbody tr th {\n",
       "        vertical-align: top;\n",
       "    }\n",
       "\n",
       "    .dataframe thead th {\n",
       "        text-align: right;\n",
       "    }\n",
       "</style>\n",
       "<table border=\"1\" class=\"dataframe\">\n",
       "  <thead>\n",
       "    <tr style=\"text-align: right;\">\n",
       "      <th></th>\n",
       "      <th>0</th>\n",
       "    </tr>\n",
       "  </thead>\n",
       "  <tbody>\n",
       "    <tr>\n",
       "      <th>0</th>\n",
       "      <td>好像 遥控 是 坏 的   还是 送 的 电池 没有 电   算了   热水器 上将 就 着...</td>\n",
       "    </tr>\n",
       "    <tr>\n",
       "      <th>1</th>\n",
       "      <td>要 打 十个 字 才能 发   我 就 打 十个 字</td>\n",
       "    </tr>\n",
       "    <tr>\n",
       "      <th>2</th>\n",
       "      <td>调温 的 开关 太紧 了   不 知道 是不是 都 这样   送货 和 安装 的 师傅 来 ...</td>\n",
       "    </tr>\n",
       "    <tr>\n",
       "      <th>3</th>\n",
       "      <td>上面 安装 既然 花 了 我 差不多 * 块   但是 这 热水器 马马虎虎 吧</td>\n",
       "    </tr>\n",
       "    <tr>\n",
       "      <th>4</th>\n",
       "      <td>这 东西 有 不是 什么 高科技   比 别的 厂家 还贵   想 不 明白</td>\n",
       "    </tr>\n",
       "  </tbody>\n",
       "</table>\n",
       "</div>"
      ],
      "text/plain": [
       "                                                   0\n",
       "0  好像 遥控 是 坏 的   还是 送 的 电池 没有 电   算了   热水器 上将 就 着...\n",
       "1                         要 打 十个 字 才能 发   我 就 打 十个 字\n",
       "2  调温 的 开关 太紧 了   不 知道 是不是 都 这样   送货 和 安装 的 师傅 来 ...\n",
       "3           上面 安装 既然 花 了 我 差不多 * 块   但是 这 热水器 马马虎虎 吧\n",
       "4             这 东西 有 不是 什么 高科技   比 别的 厂家 还贵   想 不 明白"
      ]
     },
     "execution_count": 16,
     "metadata": {},
     "output_type": "execute_result"
    }
   ],
   "source": [
    "stoplist = path + '/data/stoplist.txt'\n",
    "\n",
    "neg = pd.read_csv(outputfile1, encoding = 'utf8', header = None)\n",
    "pos = pd.read_csv(outputfile2, encoding = 'utf8', header = None)\n",
    "\n",
    "neg.head()"
   ]
  },
  {
   "cell_type": "code",
   "execution_count": 17,
   "metadata": {},
   "outputs": [
    {
     "data": {
      "text/plain": [
       "0       好像 遥控 是 坏 的   还是 送 的 电池 没有 电   算了   热水器 上将 就 着...\n",
       "1                              要 打 十个 字 才能 发   我 就 打 十个 字\n",
       "2       调温 的 开关 太紧 了   不 知道 是不是 都 这样   送货 和 安装 的 师傅 来 ...\n",
       "3                上面 安装 既然 花 了 我 差不多 * 块   但是 这 热水器 马马虎虎 吧\n",
       "4                  这 东西 有 不是 什么 高科技   比 别的 厂家 还贵   想 不 明白\n",
       "5       家里人 会装   自己 装 的   厂配 的 混 水阀 不够 标准   装 的 时候 费 了...\n",
       "6                  便宜 点   但是 还 没 预约 安装   不 知道 安装 又 收 多少 钱\n",
       "7       很快   当天 11 点 拍 的   2 点 就 送来 了   不过 师傅 走 错路 了  ...\n",
       "8                                     价格便宜   加热 速度 也 还 可以\n",
       "9                                        很小 很轻 不 知道 好不好 用\n",
       "10                 的 ( Midea )   F40   15A1   40 升   电热水器\n",
       "11      对 京东 最差 的 一次 评价   热水器 用 不到 10 天   主板 就 坏 了   肯...\n",
       "12      货送 的 很 及时   包装 完整   说 实在 的   现在 京东 各地 都 有库   所...\n",
       "13                               还 可以 不错 用 起来 方便 出水 快 、 、\n",
       "14                            热水器 价格便宜   安装 收取 材料 费用 比较 贵\n",
       "15      热水器 没什么 问题   但 上门 安装 费用 较 高   乱七八糟 零件 加 一起 要 *...\n",
       "16      就是 安装 师傅 要 材料费 200   我要 他 去 死   自己 装 的   材料费 带...\n",
       "17                                  真心 不想 说 你们 的 客服   无 语\n",
       "18      用 了 几天 了   感觉 热水器 挺不错 的   但是 没 给 评 的 问题 是 安装 的...\n",
       "19                                        还行 吧   安装 有点 小贵\n",
       "20                               热水器 很 好 用   但 安装 说明 不 清楚\n",
       "21      安装费 超贵 无比   一副 挂件 150 元   角阀 36 元 一个   我 说 我 自...\n",
       "22      热水器 是 很 好 用 的   因为 这 是 买 的 第二个 了   只是 约 好 的 送货...\n",
       "23                                            送货 快 外包装 无损\n",
       "24      热水器 看着 还 可以   但是 为什么 给 三星 呢   主要 是因为 安装 让 我 很 ...\n",
       "25                                          美的 大 品牌 非常 不错\n",
       "26      送货 及时   安装 师傅 没 要钱 （ 自己 买 了 一个 混 水阀   一根 软管 ） ...\n",
       "27      很 满意   之前 用 的 这个 就是 这个 牌子 和 型号 的   后来 家里 着火 新买...\n",
       "28       不错   水温 可以 哦   适合 一家 三口 用   嘎嘎   大 冬天 再也 不怕 洗澡 了\n",
       "29         关 的 时候 必须 拔掉 插销 @ 真的 很 不错 @ 推荐 推荐 @ 满意 的 一次 购物\n",
       "                              ...                        \n",
       "5411    80L 容量 还是 蛮大 的   不过 我们 这儿 水压 太 大   热水 用 的 也 快 ...\n",
       "5412                   美 多 热水器 真不错   还有 遥控 功能   老人 用 很 方便\n",
       "5413                                 安装费 花 了 近 200   好 不值\n",
       "5414                                   热水器 很 实用   不温 比较稳定\n",
       "5415    性价比 很 高   其实 安装 材料 自己 买好 根本 就 不要 花 多少 安装费   那些...\n",
       "5416                                  东西 外观 不错   还 没 安装 好\n",
       "5417                                帮 同事 下 的 单   具体 不太 清楚\n",
       "5418                              不错 用 起来 很 方便   送货 速度 给力\n",
       "5419     看着 不错   希望 不要 有 质量 问题   O ( & cap ; _& cap ; ) O\n",
       "5420    购买   安装 方便   评价 为什么 非得 十字 以上   京东 SB 规定   难道 强...\n",
       "5421                        收费 合理 节能 高效 门 安装 快 恒温 不错 很 实用\n",
       "5422                 不 知道 好不好   是 给 出租房 的   不过 样子 还是 不错 的\n",
       "5423                                        而且 其热 任务 我 父亲\n",
       "5424                               真心 不错   80l 热水器 999 入手\n",
       "5425    热水器 便宜   功能 比较简单   还 挺 实用 的   就是 安装 师傅 安装 时   ...\n",
       "5426                      其他 都 很 好   就是 没有 水量 显示   不 大 习惯\n",
       "5427                              上门 安装 很 人性化   安装 没有 乱收费\n",
       "5428                             安装费 要 了 240   不 明白 这么 坑人\n",
       "5429                 美中不足 的 地方 就是 加热 有点 慢   其它 整体 感觉 还 可以\n",
       "5430                              才刚 到货 就 降到 1199   难以 接受\n",
       "5431                                           价格便宜   真不错\n",
       "5432    买 五十 升 的 后悔 了 可是 已经 装好 了   应买 四十 升 的   楼下 一家 五...\n",
       "5433    新装修 买 的 装 卫生间 里   产品价格 挺 合适   就是 安装 的 时候 费用 太高...\n",
       "5434                  加入 速度 快   小巧 方便   样子 好看 \\ n 安装 得 不错\n",
       "5435    这 款 热水器 没有 压力   一般 家用 自来水 没有 问题   就是 如果 是 抽 地下...\n",
       "5436    好   美的 的 质量 应该 有 保障   暂时 用 着 挺 好 的   不过 现在 又 降...\n",
       "5437                     2100W 烧水 速度 还是 那么 慢   不过 价格 还 不错\n",
       "5438              之前 买 了 50L 的   觉得 不错   就是 自配 的 配件 不怎么 好\n",
       "5439           促销 产品   还 没有 安装   就是 不 知道 安装 的 怎么样 和 收费 多少\n",
       "5440    帮 朋友 买 的   还 没 开始 用   因为 厂家 安装 很 繁琐   还 需要 自己 ...\n",
       "Name: 0, Length: 5441, dtype: object"
      ]
     },
     "execution_count": 17,
     "metadata": {},
     "output_type": "execute_result"
    }
   ],
   "source": [
    "neg[0]"
   ]
  },
  {
   "cell_type": "code",
   "execution_count": 18,
   "metadata": {},
   "outputs": [],
   "source": [
    "# sep设置分割词，手动设置一个不存在的分割词，这里使用tipdm\n",
    "# 参数engine加上，指定引擎，避免警告\n",
    "stop = pd.read_csv(stoplist,\n",
    "                   encoding = 'utf8',\n",
    "                   header = None,\n",
    "                   sep = 'tipdm',\n",
    "                   engine = 'python')"
   ]
  },
  {
   "cell_type": "code",
   "execution_count": 19,
   "metadata": {},
   "outputs": [],
   "source": [
    "# pandas自动过滤了空格，这里手动添加\n",
    "stop = [' ', ''] + list(stop[0])\n",
    "\n",
    "# 定义分割函数，然后用apply进行广播\n",
    "neg[1] = neg[0].apply(lambda s: s.split(' '))\n",
    "neg[2] = neg[1].apply(lambda x: [i for i in x if i not in stop])\n",
    "pos[1] = pos[0].apply(lambda s: s.split(' '))\n",
    "pos[2] = pos[1].apply(lambda x: [i for i in x if i not in stop])"
   ]
  },
  {
   "cell_type": "code",
   "execution_count": 20,
   "metadata": {},
   "outputs": [
    {
     "name": "stderr",
     "output_type": "stream",
     "text": [
      "D:\\Anaconda3\\lib\\site-packages\\gensim\\utils.py:1209: UserWarning: detected Windows; aliasing chunkize to chunkize_serial\n",
      "  warnings.warn(\"detected Windows; aliasing chunkize to chunkize_serial\")\n"
     ]
    },
    {
     "name": "stdout",
     "output_type": "stream",
     "text": [
      "0.073*\"安装\" + 0.019*\"热水器\" + 0.017*\"师傅\" + 0.014*\"不错\" + 0.014*\"知道\" + 0.014*\"美的\" + 0.014*\"好\" + 0.010*\"安装费\" + 0.009*\"使用\" + 0.007*\"问题\"\n",
      "0.027*\"不错\" + 0.020*\"好\" + 0.020*\"加热\" + 0.015*\"热水器\" + 0.011*\"有点\" + 0.011*\"买\" + 0.010*\"东西\" + 0.009*\"安装\" + 0.009*\"速度\" + 0.008*\"美的\"\n",
      "0.034*\"买\" + 0.026*\"安装\" + 0.014*\"热水器\" + 0.012*\"京东\" + 0.006*\"师傅\" + 0.006*\"不好\" + 0.006*\"n\" + 0.006*\"装\" + 0.006*\"一个\" + 0.006*\"便宜\"\n"
     ]
    }
   ],
   "source": [
    "from gensim import corpora, models\n",
    "\n",
    "# 负面主题分析\n",
    "neg_dict = corpora.Dictionary(neg[2])              # 建立词典\n",
    "neg_corpus = [neg_dict.doc2bow(i) for i in neg[2]] # 建立语料库\n",
    "neg_lda = models.LdaModel(neg_corpus,\n",
    "                          num_topics = 3,\n",
    "                          id2word = neg_dict)      # LDA模型训练\n",
    "for i in range(3):\n",
    "    print(neg_lda.print_topic(i))"
   ]
  },
  {
   "cell_type": "code",
   "execution_count": 21,
   "metadata": {},
   "outputs": [
    {
     "name": "stdout",
     "output_type": "stream",
     "text": [
      "0.094*\"好\" + 0.085*\"不错\" + 0.037*\"安装\" + 0.027*\"送货\" + 0.023*\"很快\" + 0.022*\"速度\" + 0.021*\"挺\" + 0.021*\"加热\" + 0.018*\"东西\" + 0.017*\"热水器\"\n",
      "0.051*\"买\" + 0.046*\"不错\" + 0.033*\"好\" + 0.018*\"美的\" + 0.010*\"京东\" + 0.010*\"热水器\" + 0.009*\"应该\" + 0.009*\"使用\" + 0.009*\"感觉\" + 0.008*\"一直\"\n",
      "0.066*\"安装\" + 0.021*\"师傅\" + 0.019*\"美的\" + 0.015*\"京东\" + 0.014*\"热水器\" + 0.012*\"安装费\" + 0.011*\"值得\" + 0.011*\"品牌\" + 0.011*\"好\" + 0.010*\"售后\"\n"
     ]
    }
   ],
   "source": [
    "# 正面主题分析\n",
    "pos_dict = corpora.Dictionary(pos[2])\n",
    "pos_corpus = [pos_dict.doc2bow(i) for i in pos[2]]\n",
    "pos_lda = models.LdaModel(pos_corpus,\n",
    "                          num_topics = 3,\n",
    "                          id2word = pos_dict)\n",
    "for i in range(3):\n",
    "    print(pos_lda.print_topic(i))"
   ]
  }
 ],
 "metadata": {
  "kernelspec": {
   "display_name": "Python 3",
   "language": "python",
   "name": "python3"
  },
  "language_info": {
   "codemirror_mode": {
    "name": "ipython",
    "version": 3
   },
   "file_extension": ".py",
   "mimetype": "text/x-python",
   "name": "python",
   "nbconvert_exporter": "python",
   "pygments_lexer": "ipython3",
   "version": "3.6.5"
  }
 },
 "nbformat": 4,
 "nbformat_minor": 2
}
