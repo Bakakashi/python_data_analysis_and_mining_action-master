{
 "cells": [
  {
   "cell_type": "code",
   "execution_count": 1,
   "metadata": {},
   "outputs": [],
   "source": [
    "# -*- coding: utf-8 -*-\n",
    "# 获取文件路径\n",
    "import os\n",
    "path = os.getcwd()"
   ]
  },
  {
   "cell_type": "code",
   "execution_count": 2,
   "metadata": {},
   "outputs": [],
   "source": [
    "import numpy as np\n",
    "import pandas as pd\n",
    "import matplotlib.pyplot as plt"
   ]
  },
  {
   "cell_type": "markdown",
   "metadata": {},
   "source": [
    "3-1 餐饮销额数据异常值检测"
   ]
  },
  {
   "cell_type": "code",
   "execution_count": 3,
   "metadata": {},
   "outputs": [
    {
     "name": "stdout",
     "output_type": "stream",
     "text": [
      "显示数据信息：\n",
      "<class 'pandas.core.frame.DataFrame'>\n",
      "DatetimeIndex: 201 entries, 2015-03-01 to 2014-08-02\n",
      "Data columns (total 1 columns):\n",
      "销量    200 non-null float64\n",
      "dtypes: float64(1)\n",
      "memory usage: 3.1 KB\n",
      "显示数据分布：\n"
     ]
    },
    {
     "data": {
      "text/html": [
       "<div>\n",
       "<style scoped>\n",
       "    .dataframe tbody tr th:only-of-type {\n",
       "        vertical-align: middle;\n",
       "    }\n",
       "\n",
       "    .dataframe tbody tr th {\n",
       "        vertical-align: top;\n",
       "    }\n",
       "\n",
       "    .dataframe thead th {\n",
       "        text-align: right;\n",
       "    }\n",
       "</style>\n",
       "<table border=\"1\" class=\"dataframe\">\n",
       "  <thead>\n",
       "    <tr style=\"text-align: right;\">\n",
       "      <th></th>\n",
       "      <th>销量</th>\n",
       "    </tr>\n",
       "  </thead>\n",
       "  <tbody>\n",
       "    <tr>\n",
       "      <th>count</th>\n",
       "      <td>200.000000</td>\n",
       "    </tr>\n",
       "    <tr>\n",
       "      <th>mean</th>\n",
       "      <td>2755.214700</td>\n",
       "    </tr>\n",
       "    <tr>\n",
       "      <th>std</th>\n",
       "      <td>751.029772</td>\n",
       "    </tr>\n",
       "    <tr>\n",
       "      <th>min</th>\n",
       "      <td>22.000000</td>\n",
       "    </tr>\n",
       "    <tr>\n",
       "      <th>25%</th>\n",
       "      <td>2451.975000</td>\n",
       "    </tr>\n",
       "    <tr>\n",
       "      <th>50%</th>\n",
       "      <td>2655.850000</td>\n",
       "    </tr>\n",
       "    <tr>\n",
       "      <th>75%</th>\n",
       "      <td>3026.125000</td>\n",
       "    </tr>\n",
       "    <tr>\n",
       "      <th>max</th>\n",
       "      <td>9106.440000</td>\n",
       "    </tr>\n",
       "  </tbody>\n",
       "</table>\n",
       "</div>"
      ],
      "text/plain": [
       "                销量\n",
       "count   200.000000\n",
       "mean   2755.214700\n",
       "std     751.029772\n",
       "min      22.000000\n",
       "25%    2451.975000\n",
       "50%    2655.850000\n",
       "75%    3026.125000\n",
       "max    9106.440000"
      ]
     },
     "execution_count": 3,
     "metadata": {},
     "output_type": "execute_result"
    }
   ],
   "source": [
    "catering_sale = path + '/data/catering_sale.xls'\n",
    "data1 = pd.read_excel(catering_sale, index_col = u'日期')    # 读取数据，指定“日期”为索引\n",
    "\n",
    "print('显示数据信息：')\n",
    "data1.info()\n",
    "print('显示数据分布：')\n",
    "data1.describe()"
   ]
  },
  {
   "cell_type": "code",
   "execution_count": 4,
   "metadata": {},
   "outputs": [],
   "source": [
    "%matplotlib inline\n",
    "plt.rcParams['font.sans-serif'] = ['SimHei']    # 用以正常显示中文标签\n",
    "plt.rcParams['axes.unicode_minus'] = False      # 用以正常显示负号"
   ]
  },
  {
   "cell_type": "code",
   "execution_count": 5,
   "metadata": {},
   "outputs": [
    {
     "data": {
      "image/png": "[encoded data removed]",
      "text/plain": [
       "<Figure size 432x288 with 1 Axes>"
      ]
     },
     "metadata": {},
     "output_type": "display_data"
    }
   ],
   "source": [
    "# 建立图像\n",
    "plt.figure()\n",
    "# 画箱线图\n",
    "p = data1.boxplot(return_type = 'dict')\n",
    "x = p['fliers'][0].get_xdata()           # 'flies'即为异常值标签\n",
    "y = p['fliers'][0].get_ydata().sort()    # y值从小到大排序\n",
    "plt.show()"
   ]
  },
  {
   "cell_type": "markdown",
   "metadata": {},
   "source": [
    "3-2 餐饮销量数据统计分析"
   ]
  },
  {
   "cell_type": "code",
   "execution_count": 6,
   "metadata": {},
   "outputs": [
    {
     "name": "stdout",
     "output_type": "stream",
     "text": [
      "                销量\n",
      "count   195.000000\n",
      "mean   2744.595385\n",
      "std     424.739407\n",
      "min     865.000000\n",
      "25%    2460.600000\n",
      "50%    2655.900000\n",
      "75%    3023.200000\n",
      "max    4065.200000\n",
      "range  3200.200000\n",
      "var       0.154755\n",
      "dis     562.600000\n"
     ]
    }
   ],
   "source": [
    "# 过滤异常数据\n",
    "data2 = data1[(data1[u'销量'] > 400) & (data1[u'销量'] < 5000)]\n",
    "statistics = data2.describe()\n",
    "\n",
    "statistics.loc['range'] = statistics.loc['max'] - statistics.loc['min']  # 极差\n",
    "statistics.loc['var'] = statistics.loc['std'] / statistics.loc['mean']   # 变异系数\n",
    "statistics.loc['dis'] = statistics.loc['75%'] - statistics.loc['25%']    # 四分位数间距\n",
    "print(statistics)"
   ]
  },
  {
   "cell_type": "markdown",
   "metadata": {},
   "source": [
    "3-3 菜品盈利帕累托"
   ]
  },
  {
   "cell_type": "code",
   "execution_count": 7,
   "metadata": {},
   "outputs": [
    {
     "data": {
      "image/png": "[encoded data removed]",
      "text/plain": [
       "<Figure size 432x288 with 2 Axes>"
      ]
     },
     "metadata": {},
     "output_type": "display_data"
    }
   ],
   "source": [
    "dish_profit = path + '/data/catering_dish_profit.xls'\n",
    "data3 = pd.read_excel(dish_profit, index_col = u'菜品名')\n",
    "data3 = data3[u'盈利'].copy()\n",
    "data3.sort_values(ascending = False)\n",
    "\n",
    "plt.rcParams['font.sans-serif'] = ['SimHei']    # 用以正常显示中文标签\n",
    "plt.rcParams['axes.unicode_minus'] = False      # 用以正常显示负号\n",
    "\n",
    "plt.figure()\n",
    "data3.plot(kind = 'bar')\n",
    "plt.ylabel(u'盈利(元)')\n",
    "p = 1.0 * data3.cumsum() / data3.sum()\n",
    "p.plot(color = 'r', secondary_y = True, style = '-o', linewidth = 2)\n",
    "plt.annotate(\n",
    "    format(p[6], '.4%'),\n",
    "    xy = (6, p[6]),\n",
    "    xytext = (6 * 0.9, p[6] * 0.9),\n",
    "    arrowprops = dict(arrowstyle = \"->\", connectionstyle = \"arc3, rad=.2\")\n",
    ")\n",
    "plt.ylabel(u'盈利(比例)')\n",
    "plt.show()"
   ]
  },
  {
   "cell_type": "markdown",
   "metadata": {},
   "source": [
    "3-4 餐饮销量数据相关性分析"
   ]
  },
  {
   "cell_type": "code",
   "execution_count": 8,
   "metadata": {},
   "outputs": [
    {
     "data": {
      "text/html": [
       "<div>\n",
       "<style scoped>\n",
       "    .dataframe tbody tr th:only-of-type {\n",
       "        vertical-align: middle;\n",
       "    }\n",
       "\n",
       "    .dataframe tbody tr th {\n",
       "        vertical-align: top;\n",
       "    }\n",
       "\n",
       "    .dataframe thead th {\n",
       "        text-align: right;\n",
       "    }\n",
       "</style>\n",
       "<table border=\"1\" class=\"dataframe\">\n",
       "  <thead>\n",
       "    <tr style=\"text-align: right;\">\n",
       "      <th></th>\n",
       "      <th>百合酱蒸凤爪</th>\n",
       "      <th>翡翠蒸香茜饺</th>\n",
       "      <th>金银蒜汁蒸排骨</th>\n",
       "      <th>乐膳真味鸡</th>\n",
       "      <th>蜜汁焗餐包</th>\n",
       "      <th>生炒菜心</th>\n",
       "      <th>铁板酸菜豆腐</th>\n",
       "      <th>香煎韭菜饺</th>\n",
       "      <th>香煎罗卜糕</th>\n",
       "      <th>原汁原味菜心</th>\n",
       "    </tr>\n",
       "  </thead>\n",
       "  <tbody>\n",
       "    <tr>\n",
       "      <th>百合酱蒸凤爪</th>\n",
       "      <td>1.000000</td>\n",
       "      <td>0.009206</td>\n",
       "      <td>0.016799</td>\n",
       "      <td>0.455638</td>\n",
       "      <td>0.098085</td>\n",
       "      <td>0.308496</td>\n",
       "      <td>0.204898</td>\n",
       "      <td>0.127448</td>\n",
       "      <td>-0.090276</td>\n",
       "      <td>0.428316</td>\n",
       "    </tr>\n",
       "    <tr>\n",
       "      <th>翡翠蒸香茜饺</th>\n",
       "      <td>0.009206</td>\n",
       "      <td>1.000000</td>\n",
       "      <td>0.304434</td>\n",
       "      <td>-0.012279</td>\n",
       "      <td>0.058745</td>\n",
       "      <td>-0.180446</td>\n",
       "      <td>-0.026908</td>\n",
       "      <td>0.062344</td>\n",
       "      <td>0.270276</td>\n",
       "      <td>0.020462</td>\n",
       "    </tr>\n",
       "    <tr>\n",
       "      <th>金银蒜汁蒸排骨</th>\n",
       "      <td>0.016799</td>\n",
       "      <td>0.304434</td>\n",
       "      <td>1.000000</td>\n",
       "      <td>0.035135</td>\n",
       "      <td>0.096218</td>\n",
       "      <td>-0.184290</td>\n",
       "      <td>0.187272</td>\n",
       "      <td>0.121543</td>\n",
       "      <td>0.077808</td>\n",
       "      <td>0.029074</td>\n",
       "    </tr>\n",
       "    <tr>\n",
       "      <th>乐膳真味鸡</th>\n",
       "      <td>0.455638</td>\n",
       "      <td>-0.012279</td>\n",
       "      <td>0.035135</td>\n",
       "      <td>1.000000</td>\n",
       "      <td>0.016006</td>\n",
       "      <td>0.325462</td>\n",
       "      <td>0.297692</td>\n",
       "      <td>-0.068866</td>\n",
       "      <td>-0.030222</td>\n",
       "      <td>0.421878</td>\n",
       "    </tr>\n",
       "    <tr>\n",
       "      <th>蜜汁焗餐包</th>\n",
       "      <td>0.098085</td>\n",
       "      <td>0.058745</td>\n",
       "      <td>0.096218</td>\n",
       "      <td>0.016006</td>\n",
       "      <td>1.000000</td>\n",
       "      <td>0.308454</td>\n",
       "      <td>0.502025</td>\n",
       "      <td>0.155428</td>\n",
       "      <td>0.171005</td>\n",
       "      <td>0.527844</td>\n",
       "    </tr>\n",
       "    <tr>\n",
       "      <th>生炒菜心</th>\n",
       "      <td>0.308496</td>\n",
       "      <td>-0.180446</td>\n",
       "      <td>-0.184290</td>\n",
       "      <td>0.325462</td>\n",
       "      <td>0.308454</td>\n",
       "      <td>1.000000</td>\n",
       "      <td>0.369787</td>\n",
       "      <td>0.038233</td>\n",
       "      <td>0.049898</td>\n",
       "      <td>0.122988</td>\n",
       "    </tr>\n",
       "    <tr>\n",
       "      <th>铁板酸菜豆腐</th>\n",
       "      <td>0.204898</td>\n",
       "      <td>-0.026908</td>\n",
       "      <td>0.187272</td>\n",
       "      <td>0.297692</td>\n",
       "      <td>0.502025</td>\n",
       "      <td>0.369787</td>\n",
       "      <td>1.000000</td>\n",
       "      <td>0.095543</td>\n",
       "      <td>0.157958</td>\n",
       "      <td>0.567332</td>\n",
       "    </tr>\n",
       "    <tr>\n",
       "      <th>香煎韭菜饺</th>\n",
       "      <td>0.127448</td>\n",
       "      <td>0.062344</td>\n",
       "      <td>0.121543</td>\n",
       "      <td>-0.068866</td>\n",
       "      <td>0.155428</td>\n",
       "      <td>0.038233</td>\n",
       "      <td>0.095543</td>\n",
       "      <td>1.000000</td>\n",
       "      <td>0.178336</td>\n",
       "      <td>0.049689</td>\n",
       "    </tr>\n",
       "    <tr>\n",
       "      <th>香煎罗卜糕</th>\n",
       "      <td>-0.090276</td>\n",
       "      <td>0.270276</td>\n",
       "      <td>0.077808</td>\n",
       "      <td>-0.030222</td>\n",
       "      <td>0.171005</td>\n",
       "      <td>0.049898</td>\n",
       "      <td>0.157958</td>\n",
       "      <td>0.178336</td>\n",
       "      <td>1.000000</td>\n",
       "      <td>0.088980</td>\n",
       "    </tr>\n",
       "    <tr>\n",
       "      <th>原汁原味菜心</th>\n",
       "      <td>0.428316</td>\n",
       "      <td>0.020462</td>\n",
       "      <td>0.029074</td>\n",
       "      <td>0.421878</td>\n",
       "      <td>0.527844</td>\n",
       "      <td>0.122988</td>\n",
       "      <td>0.567332</td>\n",
       "      <td>0.049689</td>\n",
       "      <td>0.088980</td>\n",
       "      <td>1.000000</td>\n",
       "    </tr>\n",
       "  </tbody>\n",
       "</table>\n",
       "</div>"
      ],
      "text/plain": [
       "           百合酱蒸凤爪    翡翠蒸香茜饺   金银蒜汁蒸排骨     乐膳真味鸡     蜜汁焗餐包      生炒菜心    铁板酸菜豆腐  \\\n",
       "百合酱蒸凤爪   1.000000  0.009206  0.016799  0.455638  0.098085  0.308496  0.204898   \n",
       "翡翠蒸香茜饺   0.009206  1.000000  0.304434 -0.012279  0.058745 -0.180446 -0.026908   \n",
       "金银蒜汁蒸排骨  0.016799  0.304434  1.000000  0.035135  0.096218 -0.184290  0.187272   \n",
       "乐膳真味鸡    0.455638 -0.012279  0.035135  1.000000  0.016006  0.325462  0.297692   \n",
       "蜜汁焗餐包    0.098085  0.058745  0.096218  0.016006  1.000000  0.308454  0.502025   \n",
       "生炒菜心     0.308496 -0.180446 -0.184290  0.325462  0.308454  1.000000  0.369787   \n",
       "铁板酸菜豆腐   0.204898 -0.026908  0.187272  0.297692  0.502025  0.369787  1.000000   \n",
       "香煎韭菜饺    0.127448  0.062344  0.121543 -0.068866  0.155428  0.038233  0.095543   \n",
       "香煎罗卜糕   -0.090276  0.270276  0.077808 -0.030222  0.171005  0.049898  0.157958   \n",
       "原汁原味菜心   0.428316  0.020462  0.029074  0.421878  0.527844  0.122988  0.567332   \n",
       "\n",
       "            香煎韭菜饺     香煎罗卜糕    原汁原味菜心  \n",
       "百合酱蒸凤爪   0.127448 -0.090276  0.428316  \n",
       "翡翠蒸香茜饺   0.062344  0.270276  0.020462  \n",
       "金银蒜汁蒸排骨  0.121543  0.077808  0.029074  \n",
       "乐膳真味鸡   -0.068866 -0.030222  0.421878  \n",
       "蜜汁焗餐包    0.155428  0.171005  0.527844  \n",
       "生炒菜心     0.038233  0.049898  0.122988  \n",
       "铁板酸菜豆腐   0.095543  0.157958  0.567332  \n",
       "香煎韭菜饺    1.000000  0.178336  0.049689  \n",
       "香煎罗卜糕    0.178336  1.000000  0.088980  \n",
       "原汁原味菜心   0.049689  0.088980  1.000000  "
      ]
     },
     "execution_count": 8,
     "metadata": {},
     "output_type": "execute_result"
    }
   ],
   "source": [
    "catering_sale = path + '/data/catering_sale_all.xls'\n",
    "data = pd.read_excel(catering_sale, index_col = u'日期')\n",
    "\n",
    "# 相关系数矩阵\n",
    "data.corr()"
   ]
  },
  {
   "cell_type": "code",
   "execution_count": 9,
   "metadata": {},
   "outputs": [
    {
     "data": {
      "text/plain": [
       "百合酱蒸凤爪     1.000000\n",
       "翡翠蒸香茜饺     0.009206\n",
       "金银蒜汁蒸排骨    0.016799\n",
       "乐膳真味鸡      0.455638\n",
       "蜜汁焗餐包      0.098085\n",
       "生炒菜心       0.308496\n",
       "铁板酸菜豆腐     0.204898\n",
       "香煎韭菜饺      0.127448\n",
       "香煎罗卜糕     -0.090276\n",
       "原汁原味菜心     0.428316\n",
       "Name: 百合酱蒸凤爪, dtype: float64"
      ]
     },
     "execution_count": 9,
     "metadata": {},
     "output_type": "execute_result"
    }
   ],
   "source": [
    "data.corr()[u'百合酱蒸凤爪']"
   ]
  },
  {
   "cell_type": "code",
   "execution_count": 10,
   "metadata": {},
   "outputs": [
    {
     "data": {
      "text/plain": [
       "0.009205803051836475"
      ]
     },
     "execution_count": 10,
     "metadata": {},
     "output_type": "execute_result"
    }
   ],
   "source": [
    "data[u'百合酱蒸凤爪'].corr(data[u'翡翠蒸香茜饺'])"
   ]
  }
 ],
 "metadata": {
  "kernelspec": {
   "display_name": "Python 3",
   "language": "python",
   "name": "python3"
  },
  "language_info": {
   "codemirror_mode": {
    "name": "ipython",
    "version": 3
   },
   "file_extension": ".py",
   "mimetype": "text/x-python",
   "name": "python",
   "nbconvert_exporter": "python",
   "pygments_lexer": "ipython3",
   "version": "3.6.5"
  }
 },
 "nbformat": 4,
 "nbformat_minor": 2
}
