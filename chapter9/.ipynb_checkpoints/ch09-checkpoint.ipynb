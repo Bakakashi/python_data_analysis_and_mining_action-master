{
 "cells": [
  {
   "cell_type": "code",
   "execution_count": 1,
   "metadata": {},
   "outputs": [],
   "source": [
    "import os\n",
    "path = os.getcwd()"
   ]
  },
  {
   "cell_type": "markdown",
   "metadata": {},
   "source": [
    "9-1 数据探索：数据预处理"
   ]
  },
  {
   "cell_type": "code",
   "execution_count": 2,
   "metadata": {},
   "outputs": [
    {
     "name": "stdout",
     "output_type": "stream",
     "text": [
      "<class 'pandas.core.frame.DataFrame'>\n",
      "RangeIndex: 203 entries, 0 to 202\n",
      "Data columns (total 11 columns):\n",
      "类别        203 non-null int64\n",
      "序号        203 non-null int64\n",
      "R通道一阶矩    203 non-null float64\n",
      "G通道一阶矩    203 non-null float64\n",
      "B通道一阶矩    203 non-null float64\n",
      "R通道二阶矩    203 non-null float64\n",
      "G通道二阶矩    203 non-null float64\n",
      "B通道二阶矩    203 non-null float64\n",
      "R通道三阶矩    203 non-null float64\n",
      "G通道三阶矩    203 non-null float64\n",
      "B通道三阶矩    203 non-null float64\n",
      "dtypes: float64(9), int64(2)\n",
      "memory usage: 17.5 KB\n"
     ]
    }
   ],
   "source": [
    "# 数据抽样\n",
    "import pandas as pd\n",
    "\n",
    "inputfile = path + '/data/moment.csv'\n",
    "outputfile1 = path + '/tmp/cm_train.xls'\n",
    "outputfile2 = path + '/tmp/cm_test.xls'\n",
    "data = pd.read_csv(inputfile, encoding = 'gbk')\n",
    "data.info()"
   ]
  },
  {
   "cell_type": "code",
   "execution_count": 3,
   "metadata": {},
   "outputs": [
    {
     "data": {
      "text/html": [
       "<div>\n",
       "<style scoped>\n",
       "    .dataframe tbody tr th:only-of-type {\n",
       "        vertical-align: middle;\n",
       "    }\n",
       "\n",
       "    .dataframe tbody tr th {\n",
       "        vertical-align: top;\n",
       "    }\n",
       "\n",
       "    .dataframe thead th {\n",
       "        text-align: right;\n",
       "    }\n",
       "</style>\n",
       "<table border=\"1\" class=\"dataframe\">\n",
       "  <thead>\n",
       "    <tr style=\"text-align: right;\">\n",
       "      <th></th>\n",
       "      <th>类别</th>\n",
       "      <th>序号</th>\n",
       "      <th>R通道一阶矩</th>\n",
       "      <th>G通道一阶矩</th>\n",
       "      <th>B通道一阶矩</th>\n",
       "      <th>R通道二阶矩</th>\n",
       "      <th>G通道二阶矩</th>\n",
       "      <th>B通道二阶矩</th>\n",
       "      <th>R通道三阶矩</th>\n",
       "      <th>G通道三阶矩</th>\n",
       "      <th>B通道三阶矩</th>\n",
       "    </tr>\n",
       "  </thead>\n",
       "  <tbody>\n",
       "    <tr>\n",
       "      <th>0</th>\n",
       "      <td>1</td>\n",
       "      <td>1</td>\n",
       "      <td>0.582823</td>\n",
       "      <td>0.543774</td>\n",
       "      <td>0.252829</td>\n",
       "      <td>0.014192</td>\n",
       "      <td>0.016144</td>\n",
       "      <td>0.041075</td>\n",
       "      <td>-0.012643</td>\n",
       "      <td>-0.016090</td>\n",
       "      <td>-0.041536</td>\n",
       "    </tr>\n",
       "    <tr>\n",
       "      <th>1</th>\n",
       "      <td>1</td>\n",
       "      <td>10</td>\n",
       "      <td>0.641660</td>\n",
       "      <td>0.570657</td>\n",
       "      <td>0.213728</td>\n",
       "      <td>0.015439</td>\n",
       "      <td>0.011178</td>\n",
       "      <td>0.013708</td>\n",
       "      <td>0.009727</td>\n",
       "      <td>-0.003724</td>\n",
       "      <td>-0.003779</td>\n",
       "    </tr>\n",
       "    <tr>\n",
       "      <th>2</th>\n",
       "      <td>1</td>\n",
       "      <td>11</td>\n",
       "      <td>0.603684</td>\n",
       "      <td>0.576719</td>\n",
       "      <td>0.282254</td>\n",
       "      <td>0.008659</td>\n",
       "      <td>0.007075</td>\n",
       "      <td>0.012204</td>\n",
       "      <td>-0.004695</td>\n",
       "      <td>-0.002571</td>\n",
       "      <td>-0.009451</td>\n",
       "    </tr>\n",
       "    <tr>\n",
       "      <th>3</th>\n",
       "      <td>1</td>\n",
       "      <td>12</td>\n",
       "      <td>0.589706</td>\n",
       "      <td>0.593743</td>\n",
       "      <td>0.252242</td>\n",
       "      <td>0.007908</td>\n",
       "      <td>0.005941</td>\n",
       "      <td>0.010568</td>\n",
       "      <td>0.003303</td>\n",
       "      <td>-0.003417</td>\n",
       "      <td>-0.005273</td>\n",
       "    </tr>\n",
       "    <tr>\n",
       "      <th>4</th>\n",
       "      <td>1</td>\n",
       "      <td>13</td>\n",
       "      <td>0.591096</td>\n",
       "      <td>0.592093</td>\n",
       "      <td>0.253595</td>\n",
       "      <td>0.007448</td>\n",
       "      <td>0.006495</td>\n",
       "      <td>0.012152</td>\n",
       "      <td>0.000496</td>\n",
       "      <td>-0.002236</td>\n",
       "      <td>-0.005096</td>\n",
       "    </tr>\n",
       "  </tbody>\n",
       "</table>\n",
       "</div>"
      ],
      "text/plain": [
       "   类别  序号    R通道一阶矩    G通道一阶矩    B通道一阶矩    R通道二阶矩    G通道二阶矩    B通道二阶矩  \\\n",
       "0   1   1  0.582823  0.543774  0.252829  0.014192  0.016144  0.041075   \n",
       "1   1  10  0.641660  0.570657  0.213728  0.015439  0.011178  0.013708   \n",
       "2   1  11  0.603684  0.576719  0.282254  0.008659  0.007075  0.012204   \n",
       "3   1  12  0.589706  0.593743  0.252242  0.007908  0.005941  0.010568   \n",
       "4   1  13  0.591096  0.592093  0.253595  0.007448  0.006495  0.012152   \n",
       "\n",
       "     R通道三阶矩    G通道三阶矩    B通道三阶矩  \n",
       "0 -0.012643 -0.016090 -0.041536  \n",
       "1  0.009727 -0.003724 -0.003779  \n",
       "2 -0.004695 -0.002571 -0.009451  \n",
       "3  0.003303 -0.003417 -0.005273  \n",
       "4  0.000496 -0.002236 -0.005096  "
      ]
     },
     "execution_count": 3,
     "metadata": {},
     "output_type": "execute_result"
    }
   ],
   "source": [
    "data.head()"
   ]
  },
  {
   "cell_type": "code",
   "execution_count": 4,
   "metadata": {},
   "outputs": [
    {
     "name": "stderr",
     "output_type": "stream",
     "text": [
      "D:\\Anaconda3\\lib\\site-packages\\ipykernel_launcher.py:1: FutureWarning: Method .as_matrix will be removed in a future version. Use .values instead.\n",
      "  \"\"\"Entry point for launching an IPython kernel.\n"
     ]
    }
   ],
   "source": [
    "data = data.as_matrix()"
   ]
  },
  {
   "cell_type": "code",
   "execution_count": 5,
   "metadata": {},
   "outputs": [],
   "source": [
    "from numpy.random import shuffle\n",
    "# 随即抽取训练集和验证集--8:2\n",
    "shuffle(data)\n",
    "data_train = data[:int(0.8 * len(data)), :]\n",
    "data_test = data[int(0.8 * len(data)):, :]"
   ]
  },
  {
   "cell_type": "markdown",
   "metadata": {},
   "source": [
    "9-2 支持向量机(SVM)模型"
   ]
  },
  {
   "cell_type": "code",
   "execution_count": 6,
   "metadata": {},
   "outputs": [],
   "source": [
    "# 训练集/验证集的训练数据和结果数据的抽取：放大特征\n",
    "x_train = data_train[:, 2:] * 30\n",
    "y_train = data_train[:, 0].astype(int)\n",
    "x_test = data_test[:, 2:] * 30\n",
    "y_test = data_test[:, 0].astype(int)"
   ]
  },
  {
   "cell_type": "code",
   "execution_count": 7,
   "metadata": {},
   "outputs": [
    {
     "name": "stdout",
     "output_type": "stream",
     "text": [
      "输出混淆矩阵：\n",
      "\n",
      "训练集：\n",
      " [[40  1  1  0  0]\n",
      " [ 0 33  1  0  0]\n",
      " [ 0  0 61  0  0]\n",
      " [ 0  0  2 18  0]\n",
      " [ 0  0  0  2  3]]\n",
      "测试集：\n",
      " [[ 8  0  1  0  0]\n",
      " [ 0 10  0  0  0]\n",
      " [ 0  0 17  0  0]\n",
      " [ 0  0  1  3  0]\n",
      " [ 0  1  0  0  0]]\n"
     ]
    }
   ],
   "source": [
    "import pickle\n",
    "from sklearn import metrics, svm\n",
    "# 训练支持向量机的SVC\n",
    "model = svm.SVC()\n",
    "model.fit(x_train, y_train)\n",
    "\n",
    "# 保存模型\n",
    "pickle.dump(model, open(path + '/tmp/svm.model', 'wb'))\n",
    "# 混淆矩阵，评估模型的准确性\n",
    "cm_train = metrics.confusion_matrix(y_train, model.predict(x_train))\n",
    "cm_test = metrics.confusion_matrix(y_test, model.predict(x_test))\n",
    "print('输出混淆矩阵：\\n')\n",
    "print('训练集：\\n', cm_train)\n",
    "print('测试集：\\n', cm_test)\n",
    "# 保存结果\n",
    "pd.DataFrame(\n",
    "    cm_train, index = list(range(1, 6)),\n",
    "    columns = list(range(1, 6))\n",
    ").to_excel(outputfile1)\n",
    "\n",
    "pd.DataFrame(\n",
    "    cm_test, index=list(range(1, 6)),\n",
    "    columns=list(range(1, 6))\n",
    ").to_excel(outputfile2)"
   ]
  }
 ],
 "metadata": {
  "kernelspec": {
   "display_name": "Python 3",
   "language": "python",
   "name": "python3"
  },
  "language_info": {
   "codemirror_mode": {
    "name": "ipython",
    "version": 3
   },
   "file_extension": ".py",
   "mimetype": "text/x-python",
   "name": "python",
   "nbconvert_exporter": "python",
   "pygments_lexer": "ipython3",
   "version": "3.6.5"
  }
 },
 "nbformat": 4,
 "nbformat_minor": 2
}
